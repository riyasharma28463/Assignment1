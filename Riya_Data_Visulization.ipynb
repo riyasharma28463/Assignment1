{
  "nbformat": 4,
  "nbformat_minor": 0,
  "metadata": {
    "colab": {
      "provenance": []
    },
    "kernelspec": {
      "name": "python3",
      "display_name": "Python 3"
    },
    "language_info": {
      "name": "python"
    }
  },
  "cells": [
    {
      "cell_type": "code",
      "execution_count": null,
      "metadata": {
        "colab": {
          "base_uri": "https://localhost:8080/",
          "height": 461
        },
        "id": "SZJCz2630WgV",
        "outputId": "5ca89cf5-3f22-4d1f-a44c-57697ebdf5bb"
      },
      "outputs": [
        {
          "output_type": "execute_result",
          "data": {
            "text/plain": [
              "         Date       High      Low       Open     Close  Volume  Adj Close  \\\n",
              "0  2001-01-24  1179.3750  1041.25  1062.5000  1179.375   557.0   1179.375   \n",
              "1  2001-01-25  1174.0625  1083.75  1131.5625  1126.250   248.0   1126.250   \n",
              "2  2001-01-26  1253.7500  1147.50  1147.5000  1232.500   241.0   1232.500   \n",
              "3  2001-01-29  1211.2500  1168.75  1211.2500  1168.750   202.0   1168.750   \n",
              "4  2001-01-30  1211.2500  1168.75  1168.7500  1190.000   182.0   1190.000   \n",
              "\n",
              "                              Company  \n",
              "0  Adamis Pharmaceuticals Corporation  \n",
              "1  Adamis Pharmaceuticals Corporation  \n",
              "2  Adamis Pharmaceuticals Corporation  \n",
              "3  Adamis Pharmaceuticals Corporation  \n",
              "4  Adamis Pharmaceuticals Corporation  "
            ],
            "text/html": [
              "\n",
              "  <div id=\"df-cf8b1d4d-3e39-42f2-b0c4-5f58f1d2b78b\">\n",
              "    <div class=\"colab-df-container\">\n",
              "      <div>\n",
              "<style scoped>\n",
              "    .dataframe tbody tr th:only-of-type {\n",
              "        vertical-align: middle;\n",
              "    }\n",
              "\n",
              "    .dataframe tbody tr th {\n",
              "        vertical-align: top;\n",
              "    }\n",
              "\n",
              "    .dataframe thead th {\n",
              "        text-align: right;\n",
              "    }\n",
              "</style>\n",
              "<table border=\"1\" class=\"dataframe\">\n",
              "  <thead>\n",
              "    <tr style=\"text-align: right;\">\n",
              "      <th></th>\n",
              "      <th>Date</th>\n",
              "      <th>High</th>\n",
              "      <th>Low</th>\n",
              "      <th>Open</th>\n",
              "      <th>Close</th>\n",
              "      <th>Volume</th>\n",
              "      <th>Adj Close</th>\n",
              "      <th>Company</th>\n",
              "    </tr>\n",
              "  </thead>\n",
              "  <tbody>\n",
              "    <tr>\n",
              "      <th>0</th>\n",
              "      <td>2001-01-24</td>\n",
              "      <td>1179.3750</td>\n",
              "      <td>1041.25</td>\n",
              "      <td>1062.5000</td>\n",
              "      <td>1179.375</td>\n",
              "      <td>557.0</td>\n",
              "      <td>1179.375</td>\n",
              "      <td>Adamis Pharmaceuticals Corporation</td>\n",
              "    </tr>\n",
              "    <tr>\n",
              "      <th>1</th>\n",
              "      <td>2001-01-25</td>\n",
              "      <td>1174.0625</td>\n",
              "      <td>1083.75</td>\n",
              "      <td>1131.5625</td>\n",
              "      <td>1126.250</td>\n",
              "      <td>248.0</td>\n",
              "      <td>1126.250</td>\n",
              "      <td>Adamis Pharmaceuticals Corporation</td>\n",
              "    </tr>\n",
              "    <tr>\n",
              "      <th>2</th>\n",
              "      <td>2001-01-26</td>\n",
              "      <td>1253.7500</td>\n",
              "      <td>1147.50</td>\n",
              "      <td>1147.5000</td>\n",
              "      <td>1232.500</td>\n",
              "      <td>241.0</td>\n",
              "      <td>1232.500</td>\n",
              "      <td>Adamis Pharmaceuticals Corporation</td>\n",
              "    </tr>\n",
              "    <tr>\n",
              "      <th>3</th>\n",
              "      <td>2001-01-29</td>\n",
              "      <td>1211.2500</td>\n",
              "      <td>1168.75</td>\n",
              "      <td>1211.2500</td>\n",
              "      <td>1168.750</td>\n",
              "      <td>202.0</td>\n",
              "      <td>1168.750</td>\n",
              "      <td>Adamis Pharmaceuticals Corporation</td>\n",
              "    </tr>\n",
              "    <tr>\n",
              "      <th>4</th>\n",
              "      <td>2001-01-30</td>\n",
              "      <td>1211.2500</td>\n",
              "      <td>1168.75</td>\n",
              "      <td>1168.7500</td>\n",
              "      <td>1190.000</td>\n",
              "      <td>182.0</td>\n",
              "      <td>1190.000</td>\n",
              "      <td>Adamis Pharmaceuticals Corporation</td>\n",
              "    </tr>\n",
              "  </tbody>\n",
              "</table>\n",
              "</div>\n",
              "      <button class=\"colab-df-convert\" onclick=\"convertToInteractive('df-cf8b1d4d-3e39-42f2-b0c4-5f58f1d2b78b')\"\n",
              "              title=\"Convert this dataframe to an interactive table.\"\n",
              "              style=\"display:none;\">\n",
              "        \n",
              "  <svg xmlns=\"http://www.w3.org/2000/svg\" height=\"24px\"viewBox=\"0 0 24 24\"\n",
              "       width=\"24px\">\n",
              "    <path d=\"M0 0h24v24H0V0z\" fill=\"none\"/>\n",
              "    <path d=\"M18.56 5.44l.94 2.06.94-2.06 2.06-.94-2.06-.94-.94-2.06-.94 2.06-2.06.94zm-11 1L8.5 8.5l.94-2.06 2.06-.94-2.06-.94L8.5 2.5l-.94 2.06-2.06.94zm10 10l.94 2.06.94-2.06 2.06-.94-2.06-.94-.94-2.06-.94 2.06-2.06.94z\"/><path d=\"M17.41 7.96l-1.37-1.37c-.4-.4-.92-.59-1.43-.59-.52 0-1.04.2-1.43.59L10.3 9.45l-7.72 7.72c-.78.78-.78 2.05 0 2.83L4 21.41c.39.39.9.59 1.41.59.51 0 1.02-.2 1.41-.59l7.78-7.78 2.81-2.81c.8-.78.8-2.07 0-2.86zM5.41 20L4 18.59l7.72-7.72 1.47 1.35L5.41 20z\"/>\n",
              "  </svg>\n",
              "      </button>\n",
              "      \n",
              "  <style>\n",
              "    .colab-df-container {\n",
              "      display:flex;\n",
              "      flex-wrap:wrap;\n",
              "      gap: 12px;\n",
              "    }\n",
              "\n",
              "    .colab-df-convert {\n",
              "      background-color: #E8F0FE;\n",
              "      border: none;\n",
              "      border-radius: 50%;\n",
              "      cursor: pointer;\n",
              "      display: none;\n",
              "      fill: #1967D2;\n",
              "      height: 32px;\n",
              "      padding: 0 0 0 0;\n",
              "      width: 32px;\n",
              "    }\n",
              "\n",
              "    .colab-df-convert:hover {\n",
              "      background-color: #E2EBFA;\n",
              "      box-shadow: 0px 1px 2px rgba(60, 64, 67, 0.3), 0px 1px 3px 1px rgba(60, 64, 67, 0.15);\n",
              "      fill: #174EA6;\n",
              "    }\n",
              "\n",
              "    [theme=dark] .colab-df-convert {\n",
              "      background-color: #3B4455;\n",
              "      fill: #D2E3FC;\n",
              "    }\n",
              "\n",
              "    [theme=dark] .colab-df-convert:hover {\n",
              "      background-color: #434B5C;\n",
              "      box-shadow: 0px 1px 3px 1px rgba(0, 0, 0, 0.15);\n",
              "      filter: drop-shadow(0px 1px 2px rgba(0, 0, 0, 0.3));\n",
              "      fill: #FFFFFF;\n",
              "    }\n",
              "  </style>\n",
              "\n",
              "      <script>\n",
              "        const buttonEl =\n",
              "          document.querySelector('#df-cf8b1d4d-3e39-42f2-b0c4-5f58f1d2b78b button.colab-df-convert');\n",
              "        buttonEl.style.display =\n",
              "          google.colab.kernel.accessAllowed ? 'block' : 'none';\n",
              "\n",
              "        async function convertToInteractive(key) {\n",
              "          const element = document.querySelector('#df-cf8b1d4d-3e39-42f2-b0c4-5f58f1d2b78b');\n",
              "          const dataTable =\n",
              "            await google.colab.kernel.invokeFunction('convertToInteractive',\n",
              "                                                     [key], {});\n",
              "          if (!dataTable) return;\n",
              "\n",
              "          const docLinkHtml = 'Like what you see? Visit the ' +\n",
              "            '<a target=\"_blank\" href=https://colab.research.google.com/notebooks/data_table.ipynb>data table notebook</a>'\n",
              "            + ' to learn more about interactive tables.';\n",
              "          element.innerHTML = '';\n",
              "          dataTable['output_type'] = 'display_data';\n",
              "          await google.colab.output.renderOutput(dataTable, element);\n",
              "          const docLink = document.createElement('div');\n",
              "          docLink.innerHTML = docLinkHtml;\n",
              "          element.appendChild(docLink);\n",
              "        }\n",
              "      </script>\n",
              "    </div>\n",
              "  </div>\n",
              "  "
            ]
          },
          "metadata": {},
          "execution_count": 2
        }
      ],
      "source": [
        "import pandas as pd\n",
        "import matplotlib.pyplot as plt\n",
        "import numpy as np\n",
        "\n",
        "# Load data\n",
        "df = pd.read_csv('/content/Adamis Pharmaceuticals Corporationstock.csv')\n",
        "df.head()"
      ]
    },
    {
      "cell_type": "code",
      "source": [
        "df.tail()"
      ],
      "metadata": {
        "colab": {
          "base_uri": "https://localhost:8080/",
          "height": 461
        },
        "id": "QEMrvPD063Lv",
        "outputId": "d7a014d1-d0fe-44e0-987e-0e4f8b2ef8fd"
      },
      "execution_count": null,
      "outputs": [
        {
          "output_type": "execute_result",
          "data": {
            "text/plain": [
              "            Date  High   Low  Open  Close       Volume  Adj Close  \\\n",
              "5026  2021-01-15  0.84  0.75  0.81   0.78    8476700.0       0.78   \n",
              "5027  2021-01-19  0.84  0.75  0.80   0.81    7999900.0       0.81   \n",
              "5028  2021-01-20  1.66  0.98  1.03   1.43  277533100.0       1.43   \n",
              "5029  2021-01-21  1.29  1.10  1.18   1.27   84369500.0       1.27   \n",
              "5030  2021-01-22  2.34  1.71  2.33   1.79  205718200.0       1.79   \n",
              "\n",
              "                                 Company  \n",
              "5026  Adamis Pharmaceuticals Corporation  \n",
              "5027  Adamis Pharmaceuticals Corporation  \n",
              "5028  Adamis Pharmaceuticals Corporation  \n",
              "5029  Adamis Pharmaceuticals Corporation  \n",
              "5030  Adamis Pharmaceuticals Corporation  "
            ],
            "text/html": [
              "\n",
              "  <div id=\"df-31ec3d4b-ffc7-49ef-a4d9-c6627de2573d\">\n",
              "    <div class=\"colab-df-container\">\n",
              "      <div>\n",
              "<style scoped>\n",
              "    .dataframe tbody tr th:only-of-type {\n",
              "        vertical-align: middle;\n",
              "    }\n",
              "\n",
              "    .dataframe tbody tr th {\n",
              "        vertical-align: top;\n",
              "    }\n",
              "\n",
              "    .dataframe thead th {\n",
              "        text-align: right;\n",
              "    }\n",
              "</style>\n",
              "<table border=\"1\" class=\"dataframe\">\n",
              "  <thead>\n",
              "    <tr style=\"text-align: right;\">\n",
              "      <th></th>\n",
              "      <th>Date</th>\n",
              "      <th>High</th>\n",
              "      <th>Low</th>\n",
              "      <th>Open</th>\n",
              "      <th>Close</th>\n",
              "      <th>Volume</th>\n",
              "      <th>Adj Close</th>\n",
              "      <th>Company</th>\n",
              "    </tr>\n",
              "  </thead>\n",
              "  <tbody>\n",
              "    <tr>\n",
              "      <th>5026</th>\n",
              "      <td>2021-01-15</td>\n",
              "      <td>0.84</td>\n",
              "      <td>0.75</td>\n",
              "      <td>0.81</td>\n",
              "      <td>0.78</td>\n",
              "      <td>8476700.0</td>\n",
              "      <td>0.78</td>\n",
              "      <td>Adamis Pharmaceuticals Corporation</td>\n",
              "    </tr>\n",
              "    <tr>\n",
              "      <th>5027</th>\n",
              "      <td>2021-01-19</td>\n",
              "      <td>0.84</td>\n",
              "      <td>0.75</td>\n",
              "      <td>0.80</td>\n",
              "      <td>0.81</td>\n",
              "      <td>7999900.0</td>\n",
              "      <td>0.81</td>\n",
              "      <td>Adamis Pharmaceuticals Corporation</td>\n",
              "    </tr>\n",
              "    <tr>\n",
              "      <th>5028</th>\n",
              "      <td>2021-01-20</td>\n",
              "      <td>1.66</td>\n",
              "      <td>0.98</td>\n",
              "      <td>1.03</td>\n",
              "      <td>1.43</td>\n",
              "      <td>277533100.0</td>\n",
              "      <td>1.43</td>\n",
              "      <td>Adamis Pharmaceuticals Corporation</td>\n",
              "    </tr>\n",
              "    <tr>\n",
              "      <th>5029</th>\n",
              "      <td>2021-01-21</td>\n",
              "      <td>1.29</td>\n",
              "      <td>1.10</td>\n",
              "      <td>1.18</td>\n",
              "      <td>1.27</td>\n",
              "      <td>84369500.0</td>\n",
              "      <td>1.27</td>\n",
              "      <td>Adamis Pharmaceuticals Corporation</td>\n",
              "    </tr>\n",
              "    <tr>\n",
              "      <th>5030</th>\n",
              "      <td>2021-01-22</td>\n",
              "      <td>2.34</td>\n",
              "      <td>1.71</td>\n",
              "      <td>2.33</td>\n",
              "      <td>1.79</td>\n",
              "      <td>205718200.0</td>\n",
              "      <td>1.79</td>\n",
              "      <td>Adamis Pharmaceuticals Corporation</td>\n",
              "    </tr>\n",
              "  </tbody>\n",
              "</table>\n",
              "</div>\n",
              "      <button class=\"colab-df-convert\" onclick=\"convertToInteractive('df-31ec3d4b-ffc7-49ef-a4d9-c6627de2573d')\"\n",
              "              title=\"Convert this dataframe to an interactive table.\"\n",
              "              style=\"display:none;\">\n",
              "        \n",
              "  <svg xmlns=\"http://www.w3.org/2000/svg\" height=\"24px\"viewBox=\"0 0 24 24\"\n",
              "       width=\"24px\">\n",
              "    <path d=\"M0 0h24v24H0V0z\" fill=\"none\"/>\n",
              "    <path d=\"M18.56 5.44l.94 2.06.94-2.06 2.06-.94-2.06-.94-.94-2.06-.94 2.06-2.06.94zm-11 1L8.5 8.5l.94-2.06 2.06-.94-2.06-.94L8.5 2.5l-.94 2.06-2.06.94zm10 10l.94 2.06.94-2.06 2.06-.94-2.06-.94-.94-2.06-.94 2.06-2.06.94z\"/><path d=\"M17.41 7.96l-1.37-1.37c-.4-.4-.92-.59-1.43-.59-.52 0-1.04.2-1.43.59L10.3 9.45l-7.72 7.72c-.78.78-.78 2.05 0 2.83L4 21.41c.39.39.9.59 1.41.59.51 0 1.02-.2 1.41-.59l7.78-7.78 2.81-2.81c.8-.78.8-2.07 0-2.86zM5.41 20L4 18.59l7.72-7.72 1.47 1.35L5.41 20z\"/>\n",
              "  </svg>\n",
              "      </button>\n",
              "      \n",
              "  <style>\n",
              "    .colab-df-container {\n",
              "      display:flex;\n",
              "      flex-wrap:wrap;\n",
              "      gap: 12px;\n",
              "    }\n",
              "\n",
              "    .colab-df-convert {\n",
              "      background-color: #E8F0FE;\n",
              "      border: none;\n",
              "      border-radius: 50%;\n",
              "      cursor: pointer;\n",
              "      display: none;\n",
              "      fill: #1967D2;\n",
              "      height: 32px;\n",
              "      padding: 0 0 0 0;\n",
              "      width: 32px;\n",
              "    }\n",
              "\n",
              "    .colab-df-convert:hover {\n",
              "      background-color: #E2EBFA;\n",
              "      box-shadow: 0px 1px 2px rgba(60, 64, 67, 0.3), 0px 1px 3px 1px rgba(60, 64, 67, 0.15);\n",
              "      fill: #174EA6;\n",
              "    }\n",
              "\n",
              "    [theme=dark] .colab-df-convert {\n",
              "      background-color: #3B4455;\n",
              "      fill: #D2E3FC;\n",
              "    }\n",
              "\n",
              "    [theme=dark] .colab-df-convert:hover {\n",
              "      background-color: #434B5C;\n",
              "      box-shadow: 0px 1px 3px 1px rgba(0, 0, 0, 0.15);\n",
              "      filter: drop-shadow(0px 1px 2px rgba(0, 0, 0, 0.3));\n",
              "      fill: #FFFFFF;\n",
              "    }\n",
              "  </style>\n",
              "\n",
              "      <script>\n",
              "        const buttonEl =\n",
              "          document.querySelector('#df-31ec3d4b-ffc7-49ef-a4d9-c6627de2573d button.colab-df-convert');\n",
              "        buttonEl.style.display =\n",
              "          google.colab.kernel.accessAllowed ? 'block' : 'none';\n",
              "\n",
              "        async function convertToInteractive(key) {\n",
              "          const element = document.querySelector('#df-31ec3d4b-ffc7-49ef-a4d9-c6627de2573d');\n",
              "          const dataTable =\n",
              "            await google.colab.kernel.invokeFunction('convertToInteractive',\n",
              "                                                     [key], {});\n",
              "          if (!dataTable) return;\n",
              "\n",
              "          const docLinkHtml = 'Like what you see? Visit the ' +\n",
              "            '<a target=\"_blank\" href=https://colab.research.google.com/notebooks/data_table.ipynb>data table notebook</a>'\n",
              "            + ' to learn more about interactive tables.';\n",
              "          element.innerHTML = '';\n",
              "          dataTable['output_type'] = 'display_data';\n",
              "          await google.colab.output.renderOutput(dataTable, element);\n",
              "          const docLink = document.createElement('div');\n",
              "          docLink.innerHTML = docLinkHtml;\n",
              "          element.appendChild(docLink);\n",
              "        }\n",
              "      </script>\n",
              "    </div>\n",
              "  </div>\n",
              "  "
            ]
          },
          "metadata": {},
          "execution_count": 10
        }
      ]
    },
    {
      "cell_type": "code",
      "source": [
        "# Delete Rows by Index Range\n",
        "df1=df.drop(df.index[1000:])\n",
        "print(df1.tail())"
      ],
      "metadata": {
        "colab": {
          "base_uri": "https://localhost:8080/"
        },
        "id": "NcAr80-a7l57",
        "outputId": "e2dd926b-690b-4618-b4ce-374b25d03305"
      },
      "execution_count": null,
      "outputs": [
        {
          "output_type": "stream",
          "name": "stdout",
          "text": [
            "           Date        High         Low        Open       Close  Volume  \\\n",
            "995  2005-01-11  455.600006  425.000000  452.200012  425.000000   462.0   \n",
            "996  2005-01-12  435.200012  425.000000  425.000000  435.200012   271.0   \n",
            "997  2005-01-13  425.000000  416.500000  425.000000  416.500000   440.0   \n",
            "998  2005-01-14  423.299988  382.500000  416.500000  391.000000   419.0   \n",
            "999  2005-01-18  413.100006  397.799988  406.299988  404.600006   325.0   \n",
            "\n",
            "      Adj Close                             Company  \n",
            "995  425.000000  Adamis Pharmaceuticals Corporation  \n",
            "996  435.200012  Adamis Pharmaceuticals Corporation  \n",
            "997  416.500000  Adamis Pharmaceuticals Corporation  \n",
            "998  391.000000  Adamis Pharmaceuticals Corporation  \n",
            "999  404.600006  Adamis Pharmaceuticals Corporation  \n"
          ]
        }
      ]
    },
    {
      "cell_type": "code",
      "source": [
        "companies = df['Company'].unique()\n",
        "companies"
      ],
      "metadata": {
        "colab": {
          "base_uri": "https://localhost:8080/"
        },
        "id": "BCnvwgQN4IHs",
        "outputId": "0c751057-d76f-4ff7-de64-06a7ea0ad37d"
      },
      "execution_count": null,
      "outputs": [
        {
          "output_type": "execute_result",
          "data": {
            "text/plain": [
              "array(['Adamis Pharmaceuticals Corporation'], dtype=object)"
            ]
          },
          "metadata": {},
          "execution_count": 3
        }
      ]
    },
    {
      "cell_type": "code",
      "source": [
        "def line_plot(df1):\n",
        "  # plot lines\n",
        "  plt.plot(df1['Date'], df1['Low'], label = \"Low\")\n",
        "  plt.plot(df1['Date'], df1['Open'], label = \"Open\")\n",
        "  plt.plot(df1['Date'], df1['High'], label = \"High\")\n",
        "  plt.plot(df1['Date'], df1['Close'], label = \"Close\")\n",
        "  # Set plot title, x-axis label and y-axis label\n",
        "  plt.title('Stock Prices Over Time')\n",
        "  plt.xlabel('Date 2001-01-24 - 2005-01-18')\n",
        "  plt.ylabel('Price')\n",
        "  plt.legend()\n",
        "  plt.show()"
      ],
      "metadata": {
        "id": "L3N9gcRM79As"
      },
      "execution_count": null,
      "outputs": []
    },
    {
      "cell_type": "code",
      "source": [
        "line_plot(df1)"
      ],
      "metadata": {
        "colab": {
          "base_uri": "https://localhost:8080/",
          "height": 295
        },
        "id": "55k4_mPA_E4e",
        "outputId": "502e15ec-68ba-46d3-9311-8b68b2b2e239"
      },
      "execution_count": null,
      "outputs": [
        {
          "output_type": "display_data",
          "data": {
            "text/plain": [
              "<Figure size 432x288 with 1 Axes>"
            ],
            "image/png": "[encoded data removed]"
          },
          "metadata": {
            "needs_background": "light"
          }
        }
      ]
    },
    {
      "cell_type": "code",
      "source": [
        "def scatter_plot(df1):\n",
        "  # plot scatter\n",
        "  plt.scatter(df1['Date'], df1['Low'], label = \"Low\")\n",
        "  plt.scatter(df1['Date'], df1['Open'], label = \"Open\")\n",
        "  plt.scatter(df1['Date'], df1['High'], label = \"High\")\n",
        "  plt.scatter(df1['Date'], df1['Close'], label = \"Close\")\n",
        "  # Set plot title, x-axis label and y-axis label\n",
        "  plt.title('Stock Prices Over Time')\n",
        "  plt.xlabel('Date 2001-01-24 - 2005-01-18')\n",
        "  plt.ylabel('Price')\n",
        "  plt.legend()\n",
        "  plt.show()"
      ],
      "metadata": {
        "id": "fmJpmfmd_-na"
      },
      "execution_count": null,
      "outputs": []
    },
    {
      "cell_type": "code",
      "source": [
        "scatter_plot(df1)"
      ],
      "metadata": {
        "colab": {
          "base_uri": "https://localhost:8080/",
          "height": 295
        },
        "id": "cNMvt5GB1KAf",
        "outputId": "56f38189-c781-4db3-f2d0-6cb2ad9eba0c"
      },
      "execution_count": null,
      "outputs": [
        {
          "output_type": "display_data",
          "data": {
            "text/plain": [
              "<Figure size 432x288 with 1 Axes>"
            ],
            "image/png": "[encoded data removed]"
          },
          "metadata": {
            "needs_background": "light"
          }
        }
      ]
    },
    {
      "cell_type": "code",
      "source": [
        "def scatter_plot(df1):\n",
        "  # plot scatter\n",
        "  # plt.hist(df1['Date'], df1['Low'], label = \"Low\")\n",
        "  # plt.hist(df1['Date'], df1['Open'], label = \"Open\")\n",
        "  # plt.hist(df1['Date'], df1['High'], label = \"High\")\n",
        "  plt.hist(df1['Close'], label = \"Close\")\n",
        "  # Set plot title, x-axis label and y-axis label\n",
        "  plt.title('Stock Prices Over Time')\n",
        "  plt.xlabel('Stock Prices Close')\n",
        "  #plt.ylabel('Price')\n",
        "  plt.legend()\n",
        "  plt.show()"
      ],
      "metadata": {
        "id": "BjrcS0jQAllO"
      },
      "execution_count": null,
      "outputs": []
    },
    {
      "cell_type": "code",
      "source": [
        "scatter_plot(df1)"
      ],
      "metadata": {
        "colab": {
          "base_uri": "https://localhost:8080/",
          "height": 295
        },
        "id": "BrKJZZRsAlnz",
        "outputId": "69e07fa5-9611-403b-b8cc-41048465b1bc"
      },
      "execution_count": null,
      "outputs": [
        {
          "output_type": "display_data",
          "data": {
            "text/plain": [
              "<Figure size 432x288 with 1 Axes>"
            ],
            "image/png": "[encoded data removed]"
          },
          "metadata": {
            "needs_background": "light"
          }
        }
      ]
    }
  ]
}